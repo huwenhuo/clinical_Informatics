{
 "cells": [
  {
   "cell_type": "markdown",
   "id": "5485c9f3-faa2-4f0b-bc13-39060f816d74",
   "metadata": {},
   "source": [
    "## [introduction to HL7](HL7.ipynb)\n",
    "\n",
    "## [introduction to FIHR](FIHR.ipynb)\n",
    "\n",
    "## [introduction to ICD-10](ICD.ipynb)\n",
    "\n",
    "## [introduction to RxNORM](RxNORM.ipynb)\n",
    "\n",
    "## [introduction to SNOMED CT](SNOMED.ipynb)\n",
    "\n",
    "## [introduction to LOINC](LOINC.ipynb)\n",
    "\n",
    "## [introduction to related datasets](datasets.ipynb)\n",
    "\n",
    "## [introduction to smart health IT](smart.ipynb)\n"
   ]
  }
 ],
 "metadata": {
  "kernelspec": {
   "display_name": "pyClin",
   "language": "python",
   "name": "pyclin"
  },
  "language_info": {
   "codemirror_mode": {
    "name": "ipython",
    "version": 3
   },
   "file_extension": ".py",
   "mimetype": "text/x-python",
   "name": "python",
   "nbconvert_exporter": "python",
   "pygments_lexer": "ipython3",
   "version": "3.8.20"
  }
 },
 "nbformat": 4,
 "nbformat_minor": 5
}
