{
 "cells": [
  {
   "cell_type": "markdown",
   "id": "4933df43-6db7-4296-ba52-ae5a0bd34521",
   "metadata": {},
   "source": [
    "# Introduction to ICD-10\n",
    "\n",
    "**ICD-10 (International Classification of Diseases, 10th Revision)** is a standardized system for coding diseases, conditions, and other health-related issues. It is maintained by the **World Health Organization (WHO)** and is widely used for clinical documentation, billing, epidemiology, and research.\n",
    "\n",
    "## Key Features of ICD-10\n",
    "\n",
    "1.  **Structure**\n",
    "    \n",
    "    *   ICD-10 codes are **alphanumeric** and typically consist of **three to seven characters**.\n",
    "    *   The first character is a **letter**, followed by numbers (e.g., **A00.0** for Cholera).\n",
    "    *   More characters add specificity, such as location, severity, and cause.\n",
    "2.  **Hierarchical Organization**\n",
    "    \n",
    "    *   Divided into **21 chapters**, each covering a category of diseases (e.g., infectious diseases, neoplasms, mental disorders).\n",
    "    *   Each chapter contains **blocks** of related conditions.\n",
    "3.  **Usage in Healthcare**\n",
    "    \n",
    "    *   **Clinical documentation**: Standardizes disease classification for doctors and hospitals.\n",
    "    *   **Medical billing and reimbursement**: Used by insurance companies for claims processing.\n",
    "    *   **Epidemiology and public health**: Tracks disease trends and outbreaks.\n",
    "\n",
    "## **Example ICD-10 Codes**\n",
    "\n",
    "*   **J45.909** – Unspecified asthma, uncomplicated\n",
    "*   **E11.9** – Type 2 diabetes mellitus without complications\n",
    "*   **S72.001A** – Fracture of the right femur, initial encounter\n",
    "\n"
   ]
  },
  {
   "cell_type": "markdown",
   "id": "5dbc3c7f-2b18-4eb2-bd52-e2d2c624e7ff",
   "metadata": {},
   "source": [
    "# Introduction to ICD-10-CM"
   ]
  },
  {
   "cell_type": "markdown",
   "id": "d9ccc1fb-4d6e-4058-aa08-556fb3f34c87",
   "metadata": {},
   "source": [
    "The **ICD-10-CM (Clinical Modification)** is the U.S. adaptation of the WHO's **ICD-10**, designed for **diagnosis coding** in clinical and outpatient settings. It includes **greater specificity** than standard ICD-10.\n"
   ]
  },
  {
   "cell_type": "markdown",
   "id": "2e1cd34b-5f13-4deb-99c4-2702cdba8b7a",
   "metadata": {},
   "source": [
    "## Structure of ICD-10-CM Codes\n",
    "- First Character (Letter) → Main Chapter/Category\n",
    "- First Three Characters → Subcategory (e.g., C50 = Malignant neoplasm of breast)\n",
    "- Four to Seven Characters → Further specificity (e.g., C50.511 = Malignant neoplasm of the lower-outer quadrant of the right female breast)\n"
   ]
  },
  {
   "cell_type": "markdown",
   "id": "f484a3f0-1f74-435a-bd37-1a24766076d7",
   "metadata": {},
   "source": [
    "\n",
    "## a look at the head (beginning) of ICD-10-CM\n",
    "\n",
    " <div align=\"center\"> Table 1: Chapter 1: Certain Infectious and Parasitic Diseases (A00-B99) </div>\n",
    "\n",
    "| Code | Description |\n",
    "|---|---|\n",
    "| **A00**   | Cholera |\n",
    "| **A00.0** | Cholera due to Vibrio cholerae 01, biovar cholerae |\n",
    "| **A00.1** | Cholera due to Vibrio cholerae 01, biovar eltor |\n",
    "| **A00.9** | Cholera, unspecified |\n",
    "| **A01**   | Typhoid and paratyphoid fevers\n",
    "| **A01.0** | Typhoid fever\n",
    "| **A01.1** | Paratyphoid fever A |\n",
    "| **A01.2** | Paratyphoid fever B |\n",
    "| **A01.3** | Paratyphoid fever C |\n",
    "| **A01.4** | Paratyphoid fever, unspecified |"
   ]
  },
  {
   "cell_type": "markdown",
   "id": "ac43a69c-afec-4fb6-81bf-9f26a0c97fe4",
   "metadata": {},
   "source": [
    "## overall code design for ICD-10-CM\n",
    "\n",
    "| First Character (Letter) | Category (Chapter) |\n",
    "|-------------------------|---------------------------------------------------------------|\n",
    "| A-B                     | Certain Infectious and Parasitic Diseases                   |\n",
    "| C-D                     | Neoplasms                                                   |\n",
    "| D                       | Diseases of the Blood and Blood-Forming Organs             |\n",
    "| E                       | Endocrine, Nutritional, and Metabolic Diseases             |\n",
    "| F                       | Mental, Behavioral, and Neurodevelopmental Disorders       |\n",
    "| G                       | Diseases of the Nervous System                             |\n",
    "| H                       | Diseases of the Eye, Ear, and Related Structures           |\n",
    "| I                       | Diseases of the Circulatory System                         |\n",
    "| J                       | Diseases of the Respiratory System                         |\n",
    "| K                       | Diseases of the Digestive System                           |\n",
    "| L                       | Diseases of the Skin and Subcutaneous Tissue              |\n",
    "| M                       | Diseases of the Musculoskeletal System and Connective Tissue |\n",
    "| N                       | Diseases of the Genitourinary System                      |\n",
    "| O                       | Pregnancy, Childbirth, and the Puerperium                  |\n",
    "| P                       | Certain Conditions Originating in the Perinatal Period    |\n",
    "| Q                       | Congenital Malformations, Deformations, and Chromosomal Abnormalities |\n",
    "| R                       | Symptoms, Signs, and Abnormal Clinical and Laboratory Findings |\n",
    "| S-T                     | Injury, Poisoning, and Certain Other Consequences of External Causes |\n",
    "| V-Y                     | External Causes of Morbidity                               |\n",
    "| Z                       | Factors Influencing Health Status and Contact with Health Services |\n",
    "\n"
   ]
  },
  {
   "cell_type": "markdown",
   "id": "08eb22a9-f0e5-4256-857d-079396bcac10",
   "metadata": {},
   "source": [
    "# code  dealing with ICD-10-CM"
   ]
  },
  {
   "cell_type": "code",
   "execution_count": null,
   "id": "c2bd6b42-76f4-41c9-9950-d4d62c8d3985",
   "metadata": {},
   "outputs": [],
   "source": [
    "! pip install simple-icd-10-cm"
   ]
  },
  {
   "cell_type": "markdown",
   "id": "875b251d-da90-498f-aa7f-8def143df6f8",
   "metadata": {},
   "source": [
    "**python**\n",
    "```python\n",
    "# Example: Lookup an ICD-10-CM code using simple_icd_10_cm\n",
    "from simple_icd_10_cm import get_description\n",
    "\n",
    "code = \"J45.909\"\n",
    "description = get_description(code)\n",
    "\n",
    "print(f\"ICD-10-CM Code: {code}\")\n",
    "print(f\"Description: {description}\")\n"
   ]
  }
 ],
 "metadata": {
  "kernelspec": {
   "display_name": "pyClin",
   "language": "python",
   "name": "pyclin"
  },
  "language_info": {
   "codemirror_mode": {
    "name": "ipython",
    "version": 3
   },
   "file_extension": ".py",
   "mimetype": "text/x-python",
   "name": "python",
   "nbconvert_exporter": "python",
   "pygments_lexer": "ipython3",
   "version": "3.8.20"
  }
 },
 "nbformat": 4,
 "nbformat_minor": 5
}
