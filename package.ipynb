{
 "cells": [
  {
   "cell_type": "markdown",
   "id": "c84f7b44-63d8-4914-a743-a5b3c1a795a4",
   "metadata": {},
   "source": [
    "# create env and install packages"
   ]
  },
  {
   "cell_type": "code",
   "execution_count": null,
   "id": "8ff307ae-4674-4781-869f-2ed1fea543f8",
   "metadata": {},
   "outputs": [],
   "source": [
    "! conda create -n clin python=3.8\n",
    "! source activate clin\n",
    "! conda install jupyterlab notebook ipykernel\n",
    "! python -m ipykernel install --user --name=pyClin\n",
    "\n",
    "! conda install conda-forge::nodejs\n"
   ]
  },
  {
   "cell_type": "code",
   "execution_count": null,
   "id": "e88879e6-be8a-497a-ae1b-cd3fd7d5fd60",
   "metadata": {},
   "outputs": [],
   "source": [
    "! cd ~/repos\n",
    "! git clone https://github.com/synthetichealth/synthea.git\n",
    "! cd synthea\n",
    "! ./run_synthea -p 1000"
   ]
  },
  {
   "cell_type": "markdown",
   "id": "e88855de-4c3e-4a75-b322-2b454dfbd95f",
   "metadata": {},
   "source": [
    "# fhirpy\n",
    "\n",
    "*   **Description**: A lightweight Python package to interact with **FHIR servers**. It supports most of the features you need, such as CRUD operations (Create, Read, Update, Delete) on FHIR resources.\n",
    "*   **GitHub**: [fhirpy](https://github.com/beda-software/fhir-py)\n",
    "*   **Features**:\n",
    "    *   Supports querying and reading from a FHIR server.\n",
    "    *   Allows for creating, updating, and deleting resources.\n",
    "    *   Can be used with both local and cloud-based FHIR servers.\n",
    "\n",
    "# fhirclient\n",
    "\n",
    "*   **Description**: This package, which you already mentioned, is designed to interact with FHIR servers, but also provides functionality for building requests, querying, and managing resources.\n",
    "*   **GitHub**: [fhirclient](https://github.com/smart-on-fhir/client-py)\n",
    "*   **Features**:\n",
    "    *   Supports communication with FHIR servers, including SMART on FHIR integration.\n",
    "    *   It provides a flexible interface for working with a FHIR server (patient data, condition records, etc.).\n",
    "\n",
    "# fhir.resources\n",
    "\n",
    "*   **Description**: A Python package designed to support working with FHIR resources by providing data models that mirror the FHIR specification.\n",
    "*   **GitHub**: [fhir.resources](https://github.com/nazrulworld/fhir.resources)\n",
    "*   **Features**:\n",
    "    *   Provides Pythonic representations of FHIR resources.\n",
    "    *   Facilitates working with FHIR data in a structured manner.\n",
    "    *   This library does not directly handle server communication but allows for manipulation of FHIR resource objects.\n",
    "\n",
    "# hl7-fhir\n",
    "\n",
    "*   **Description**: A Python wrapper around FHIR for HL7 messages. This is useful for converting between HL7 messages and FHIR resources.\n",
    "*   **GitHub**: [hl7-fhir](https://github.com/HL7/fhir)\n",
    "*   **Features**:\n",
    "    *   Converts HL7 messages to FHIR.\n",
    "    *   Supports integration between legacy HL7 systems and modern FHIR-based applications.\n",
    "\n",
    "# FHIR-Validator\n",
    "\n",
    "*   **Description**: A tool for validating FHIR resources in Python. It can check whether your FHIR data conforms to the FHIR specification.\n",
    "*   **GitHub**: [FHIR-Validator](https://validator.fhir.org/)\n",
    "*   **Features**:\n",
    "    *   FHIR resource validation against the official FHIR specification.\n",
    "    *   Ensures conformance for both FHIR resources and custom profiles.\n",
    "\n",
    "# FHIRbase (PostgreSQL with FHIR Schema)\n",
    "\n",
    "*   **Description**: A PostgreSQL database optimized for storing and querying FHIR resources. This is great for implementing your own FHIR database and querying resources at scale.\n",
    "*   **GitHub**: [FHIRbase](https://github.com/FHIRbase/fhirbase)\n",
    "*   **Features**:\n",
    "    *   Implements the FHIR schema in a PostgreSQL database.\n",
    "    *   Supports complex queries on FHIR resources stored in PostgreSQL.\n",
    "\n",
    "# fhir-dash\n",
    "\n",
    "*   **Description**: This is a tool for building dashboards with FHIR data, useful for clinical decision support and healthcare analytics.\n",
    "*   **GitHub**: [fhir-dash](https://github.com/smart-on-fhir/fhir-server-dashboard)\n",
    "*   **Features**:\n",
    "    *   Build real-time dashboards using FHIR data.\n",
    "    *   Integrate various healthcare data streams for analysis.\n",
    "\n"
   ]
  }
 ],
 "metadata": {
  "kernelspec": {
   "display_name": "pyClin",
   "language": "python",
   "name": "pyclin"
  },
  "language_info": {
   "codemirror_mode": {
    "name": "ipython",
    "version": 3
   },
   "file_extension": ".py",
   "mimetype": "text/x-python",
   "name": "python",
   "nbconvert_exporter": "python",
   "pygments_lexer": "ipython3",
   "version": "3.8.20"
  }
 },
 "nbformat": 4,
 "nbformat_minor": 5
}
