{
 "cells": [
  {
   "cell_type": "markdown",
   "id": "9d663dec-ebbb-4235-8749-3ec6ee2fbf2f",
   "metadata": {},
   "source": [
    " This repository contains personal summaries and analyses related to clinical informatics, based on my experience and recent use cases. It covers a wide range of topics, including basic introductions to FHIR, ICD-10, SNOMED CT, LOINC, and RxNorm, as well as Python code examples for managing FHIR data using the `fhirclient` and `fhir.resources` packages. Additionally, it summarizes and explores machine learning applications to EHR data. The goal is to consolidate key insights, share code examples, and contribute to the ongoing development and understanding of clinical informatics in healthcare.\n"
   ]
  },
  {
   "cell_type": "markdown",
   "id": "de800026-234d-49dc-8a61-1080c007aa1d",
   "metadata": {},
   "source": [
    "# [Introduction to clinical informatics](introduction.ipynb)"
   ]
  },
  {
   "cell_type": "markdown",
   "id": "87ccf0da-80a0-49bc-aaf2-6927eaab472f",
   "metadata": {},
   "source": [
    "# [Maintaining and storage of EHR FHIR](fhirdata.ipynb)"
   ]
  },
  {
   "cell_type": "markdown",
   "id": "15bd5b2f-a1f2-44a6-b949-889bf6ce3c7a",
   "metadata": {},
   "source": [
    "# [Genomic results in FHIR](genomic.ipynb)"
   ]
  },
  {
   "cell_type": "markdown",
   "id": "c6b3a3f7-7bc2-44bd-8aed-ee889a9db650",
   "metadata": {},
   "source": [
    "# [Python package or repos related to EHR FHIR](package.ipynb)"
   ]
  },
  {
   "cell_type": "markdown",
   "id": "8900ebd6-6dbf-4cf1-9d15-352c2d4122f0",
   "metadata": {},
   "source": [
    "# [Introduction to ML model based on EHR](ml.ipynb)"
   ]
  },
  {
   "cell_type": "markdown",
   "id": "ad8aac4b-9a9e-4e2d-ba5c-57e18bd664e2",
   "metadata": {},
   "source": [
    "# [Recent studies based on EHR](recentML.ipynb)"
   ]
  },
  {
   "cell_type": "markdown",
   "id": "f314435f-2a02-460c-8b98-8c2f527b4727",
   "metadata": {},
   "source": []
  }
 ],
 "metadata": {
  "kernelspec": {
   "display_name": "pyClin",
   "language": "python",
   "name": "pyclin"
  },
  "language_info": {
   "codemirror_mode": {
    "name": "ipython",
    "version": 3
   },
   "file_extension": ".py",
   "mimetype": "text/x-python",
   "name": "python",
   "nbconvert_exporter": "python",
   "pygments_lexer": "ipython3",
   "version": "3.8.20"
  }
 },
 "nbformat": 4,
 "nbformat_minor": 5
}
