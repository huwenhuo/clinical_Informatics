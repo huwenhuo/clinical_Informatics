{
 "cells": [
  {
   "cell_type": "markdown",
   "id": "27cfe7fb-0f8a-4cd2-908d-709964c49f02",
   "metadata": {},
   "source": [
    "**RxNorm** is a standardized nomenclature for clinical drugs developed by the **National Library of Medicine (NLM)**. It provides normalized names and unique identifiers for **medications** to facilitate interoperability between different health IT systems, such as EHRs, pharmacy systems, and drug databases.  \n",
    "\n",
    "\n",
    "# Key Features of RxNorm\n",
    "- **Standard Drug Naming**: Provides a consistent way to represent drug names, dosage forms, and strengths.  \n",
    "- **Unique Identifiers**: Each drug concept has a **RxCUI (RxNorm Concept Unique Identifier)**.  \n",
    "- **Mappings to Other Drug Terminologies**: Links to **NDC (National Drug Codes), SNOMED CT, First Databank (FDB), Medi-Span, and more**.  \n",
    "- **Updated Weekly**: Ensures new drug formulations and discontinued drugs are reflected.  \n",
    "\n",
    "\n",
    "# Structure of RxNorm\n",
    "RxNorm organizes drug information into different concepts:\n",
    "\n",
    "| **RxNorm Term Type (TTY)** | **Description** | **Example** |\n",
    "|-------------------|----------------|-------------|\n",
    "| **SCD (Semantic Clinical Drug)** | Drug name + strength + form | `Metformin 500 mg Oral Tablet` |\n",
    "| **SBD (Semantic Branded Drug)** | Brand name + strength + form | `Glucophage 500 mg Oral Tablet` |\n",
    "| **GPCK (Generic Pack)** | Generic drug in a pack | `Insulin Aspart 10 mL Vial` |\n",
    "| **BPCK (Branded Pack)** | Branded drug in a pack | `NovoLog FlexPen 5-pack` |\n",
    "| **IN (Ingredient)** | Active ingredient | `Metformin` |\n",
    "| **BN (Brand Name)** | Commercial drug name | `Glucophage` |\n",
    "\n",
    "Each entry is linked to a **RxCUI**, a unique identifier for that concept.\n",
    "\n",
    "---\n",
    "\n",
    "# How RxNorm is Used in Clinical Informatics\n",
    "- **EHR & Pharmacy Systems**: Standardizes medication orders and records.  \n",
    "- **Clinical Decision Support (CDS)**: Helps flag drug interactions, duplicate therapy, and allergies.  \n",
    "- **Health Information Exchange (HIE)**: Ensures seamless medication data exchange between healthcare providers.  \n",
    "- **Research & Analytics**: Enables large-scale drug utilization studies and pharmacovigilance.  \n",
    "\n",
    "---\n",
    "\n",
    "# Example RxNorm Usage in EHR Data\n",
    "\n",
    "**JSON**\n",
    "```json\n",
    "{\n",
    "  \"patient_id\": \"12345\",\n",
    "  \"medication\": {\n",
    "    \"name\": \"Metformin 500 mg Oral Tablet\",\n",
    "    \"RxCUI\": \"854901\",\n",
    "    \"dose\": \"500 mg\",\n",
    "    \"route\": \"Oral\",\n",
    "    \"frequency\": \"BID\",\n",
    "    \"prescriber\": \"Dr. John Smith\"\n",
    "  }\n",
    "}\n",
    "```\n",
    "In this example:\n",
    "- **RxCUI 854901** uniquely identifies \"Metformin 500 mg Oral Tablet.\"\n",
    "- The **dose, route, and frequency** are standardized for interoperability.\n",
    "\n",
    "---\n",
    "\n",
    "# Where to Access RxNorm Data\n",
    "You can access **RxNorm datasets for free** from the National Library of Medicine:\n",
    "- **RxNorm API**: [https://rxnav.nlm.nih.gov/](https://rxnav.nlm.nih.gov/)\n",
    "- **Download RxNorm Data**: [https://www.nlm.nih.gov/research/umls/rxnorm/index.html](https://www.nlm.nih.gov/research/umls/rxnorm/index.html)\n"
   ]
  },
  {
   "cell_type": "markdown",
   "id": "dac375f0-f220-49ef-9078-e267353ac87b",
   "metadata": {},
   "source": [
    "## an example of RxNorm files"
   ]
  },
  {
   "cell_type": "markdown",
   "id": "1e711a49-f289-41a5-8685-9b7d5ca1799f",
   "metadata": {},
   "source": [
    "[RxNorm_full_02032025.zip](https://download.nlm.nih.gov/umls/kss/rxnorm/RxNorm_full_02032025.zip?_gl=1*16042s7*_ga*OTcwNDkzNTYyLjE3Mzk5NjM0NTA.*_ga_7147EPK006*MTc0MDUxNTExMS4yLjEuMTc0MDUxNTk1MS4wLjAuMA..*_ga_P1FPTH9PL4*MTc0MDUxNTExMS4yLjEuMTc0MDUxNTk1MS4wLjAuMA..)"
   ]
  }
 ],
 "metadata": {
  "kernelspec": {
   "display_name": "pyClin",
   "language": "python",
   "name": "pyclin"
  },
  "language_info": {
   "codemirror_mode": {
    "name": "ipython",
    "version": 3
   },
   "file_extension": ".py",
   "mimetype": "text/x-python",
   "name": "python",
   "nbconvert_exporter": "python",
   "pygments_lexer": "ipython3",
   "version": "3.8.20"
  }
 },
 "nbformat": 4,
 "nbformat_minor": 5
}
